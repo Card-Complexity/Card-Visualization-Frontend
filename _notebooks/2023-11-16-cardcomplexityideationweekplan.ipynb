{
 "cells": [
  {
   "attachments": {},
   "cell_type": "markdown",
   "metadata": {},
   "source": [
    "---\n",
    "toc: true\n",
    "comments: true\n",
    "layout: notebook\n",
    "title: Card Complexity Ideation Week Project Plan \n",
    "description: This is our project plan for our Card Complexity Project for AP CSA. \n",
    "courses: { csp: {week: 1} }\n",
    "type: hacks\n",
    "---"
   ]
  },
  {
   "cell_type": "markdown",
   "metadata": {},
   "source": [
    "# Our Objective\n",
    "In order to better visualize the different sorts and procedures through animations, we are going to utilize the values of cards (1-10). In addition, we are going to demonstrate data in order to see all of the time complexities. "
   ]
  },
  {
   "cell_type": "markdown",
   "metadata": {},
   "source": [
    "# Our Plans \n",
    "## Frontend\n",
    "- Animations for all of the different sorts to visualize the sorts \n",
    "- Different selection menus in order to see all of the different sorts compared \n",
    "- The concept visualizations of fibanochi, inheritance, time complexity, palindrone algorithm using progression bar, etc. \n",
    "\n",
    "## Backend \n",
    "- Different API endpoints for bubble, merge, selection, and insertion sorts and recursion and palindrome to recive numerical value data from cards and return data in various levels of progressions (we need to send requests to help visualize and animate on the frontend)\n",
    "- Test the differnet implementations of the sorts and the time complexity endpoints "
   ]
  }
 ],
 "metadata": {
  "kernelspec": {
   "display_name": "base",
   "language": "python",
   "name": "python3"
  },
  "language_info": {
   "codemirror_mode": {
    "name": "ipython",
    "version": 3
   },
   "file_extension": ".py",
   "mimetype": "text/x-python",
   "name": "python",
   "nbconvert_exporter": "python",
   "pygments_lexer": "ipython3",
   "version": "3.9.12"
  },
  "orig_nbformat": 4
 },
 "nbformat": 4,
 "nbformat_minor": 2
}
