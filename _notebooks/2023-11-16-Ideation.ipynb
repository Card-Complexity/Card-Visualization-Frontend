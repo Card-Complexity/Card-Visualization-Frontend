{
 "cells": [
  {
   "attachments": {},
   "cell_type": "markdown",
   "metadata": {},
   "source": [
    "---\n",
    "toc: true\n",
    "comments: true\n",
    "layout: notebook\n",
    "title: Card Complexity Ideation Week Project Plan \n",
    "description: This is our project plan for our Card Complexity Project for AP CSA. \n",
    "courses: { compsci: {week: 1} }  \n",
    "type: plans \n",
    "---"
   ]
  },
  {
   "cell_type": "markdown",
   "metadata": {},
   "source": [
    "# Our Objective\n",
    "We are going to create a learning tool for students like us to be able to visualize some difficult concepts. \n",
    "\n",
    "In order to better visualize the different sorts and procedures through animations, we are going to utilize the values of cards (1-10). In addition, we are going to demonstrate data in order to see all of the time complexities. "
   ]
  },
  {
   "cell_type": "markdown",
   "metadata": {},
   "source": [
    "# Our Plans \n",
    "## Frontend\n",
    "- Animations for all of the different sorts to visualize the sorts \n",
    "- Different selection menus in order to see all of the different sorts compared \n",
    "- The concept visualizations of fibanochi, inheritance, time complexity, palindrone algorithm using progression bar, etc. \n",
    "\n",
    "## Backend \n",
    "- Different API endpoints for bubble, merge, selection, and insertion sorts and recursion and palindrome to recive numerical value data from cards and return data in various levels of progressions (we need to send requests to help visualize and animate on the frontend)\n",
    "- Test the differnet implementations of the sorts and the time complexity endpoints "
   ]
  },
  {
   "cell_type": "markdown",
   "metadata": {},
   "source": [
    "## Splitting of Work \n",
    "- Every person will do java, each memeber in our group has to work on two different sorts in java. \n",
    "\n",
    "Sreeja: Fibonachi, Selection for the backend, and then animations to match these sorts on the frontend.\n",
    "\n",
    "Tirth: Bubble, Insertion for the backend, and then animations to match these sorts on the frontend. \n",
    "\n",
    "Ekam: Palindrome, Merge for the backend, and then animations to match these sorts on the frontend. "
   ]
  },
  {
   "cell_type": "markdown",
   "metadata": {},
   "source": [
    "# Organization \n",
    "[Scrum Board](https://github.com/orgs/Card-Complexity/projects/1)"
   ]
  },
  {
   "cell_type": "markdown",
   "metadata": {},
   "source": [
    "## Bubble Sort Sample "
   ]
  },
  {
   "cell_type": "code",
   "execution_count": 8,
   "metadata": {},
   "outputs": [
    {
     "name": "stdout",
     "output_type": "stream",
     "text": [
      "Before sorting: [533, 887, 595, 804, 282, 766, 479, 955, 117, 38]\n",
      "After sorting: [38, 117, 282, 479, 533, 595, 766, 804, 887, 955]\n",
      "Total iterations: 12497500\n",
      "Total comparisons: 12497500\n",
      "Total swaps: 6261651\n",
      "Total time: 714 ms\n"
     ]
    }
   ],
   "source": [
    "import java.util.Arrays;\n",
    "import java.util.Random;\n",
    "\n",
    "public class bubbleSort {\n",
    "    // instance variables to keep track of iterations, comparisons, and swaps\n",
    "    private int iterations;\n",
    "    private int comparisons;\n",
    "    private int swaps;\n",
    "\n",
    "    // method to perform bubble sort on an array\n",
    "    public void sort(int[] arr) {\n",
    "        // reset instance variables\n",
    "        iterations = 0;\n",
    "        comparisons = 0;\n",
    "        swaps = 0;\n",
    "\n",
    "        int n = arr.length;\n",
    "        for (int i = 0; i < n - 1; i++) {\n",
    "            for (int j = 0; j < n - i - 1; j++) {\n",
    "                iterations++;\n",
    "                if (arr[j] > arr[j + 1]) {\n",
    "                    int temp = arr[j];\n",
    "                    arr[j] = arr[j + 1];\n",
    "                    arr[j + 1] = temp;\n",
    "                    swaps++;\n",
    "                    comparisons++;\n",
    "                } else {\n",
    "                    comparisons++;\n",
    "                }\n",
    "            }\n",
    "        }\n",
    "    }\n",
    "\n",
    "    // method to test the performance of bubble sort on random arrays\n",
    "    public void test() {\n",
    "        // start timer\n",
    "        long startTime = System.nanoTime();\n",
    "        // perform bubble sort on 12 random arrays\n",
    "        for (int i = 0; i < 12; i++) {\n",
    "            int[] arr = new int[5000];\n",
    "            Random rand = new Random();\n",
    "            \n",
    "            for (int j = 0; j < arr.length; j++) {\n",
    "                arr[j] = rand.nextInt(1000);\n",
    "            }\n",
    "            \n",
    "            sort(arr);\n",
    "        }\n",
    "        // stop timer\n",
    "        long endTime = System.nanoTime();\n",
    "\n",
    "        // print out performance metrics\n",
    "        System.out.println(\"Total iterations: \" + iterations);\n",
    "        System.out.println(\"Total comparisons: \" + comparisons);\n",
    "        System.out.println(\"Total swaps: \" + swaps);\n",
    "        System.out.println(\"Total time: \" + (endTime - startTime) / 1000000 + \" ms\");\n",
    "    }\n",
    "\n",
    "    // method to test bubble sort on a small array of random values\n",
    "    public void testRandomValues() {\n",
    "        int[] arr = new int[10];\n",
    "        Random rand = new Random();\n",
    "        for (int i = 0; i < arr.length; i++) {\n",
    "            arr[i] = rand.nextInt(1000);\n",
    "        }\n",
    "\n",
    "        System.out.println(\"Before sorting: \" + Arrays.toString(arr));\n",
    "        sort(arr);\n",
    "        System.out.println(\"After sorting: \" + Arrays.toString(arr));\n",
    "    }\n",
    "\n",
    "    // main method to run the program\n",
    "    public static void main(String[] args) {\n",
    "        bubbleSort bs = new bubbleSort();\n",
    "        bs.testRandomValues();\n",
    "        bs.test();\n",
    "    }\n",
    "}\n",
    "\n",
    "// call the main method to run the program\n",
    "bubbleSort.main(null);\n"
   ]
  }
 ],
 "metadata": {
  "kernelspec": {
   "display_name": "Java",
   "language": "java",
   "name": "java"
  },
  "language_info": {
   "codemirror_mode": "java",
   "file_extension": ".jshell",
   "mimetype": "text/x-java-source",
   "name": "java",
   "pygments_lexer": "java",
   "version": "3.11.6"
  },
  "orig_nbformat": 4
 },
 "nbformat": 4,
 "nbformat_minor": 2
}
