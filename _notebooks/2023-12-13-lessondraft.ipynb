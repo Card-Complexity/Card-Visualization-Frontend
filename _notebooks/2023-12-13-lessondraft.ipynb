{
 "cells": [
  {
   "attachments": {},
   "cell_type": "markdown",
   "metadata": {},
   "source": [
    "---\n",
    "toc: true\n",
    "comments: true\n",
    "layout: notebook\n",
    "title: HashMaps, HashSets, Collections, and SQL\n",
    "description: AJ, Drew, Ekam, Haseeb, Sreeja, Tirth\n",
    "courses: { compsci: {week: 1} }  \n",
    "type: plans \n",
    "---"
   ]
  },
  {
   "attachments": {},
   "cell_type": "markdown",
   "metadata": {},
   "source": [
    "## HashMaps \n",
    "\n",
    "#### What are they? \n",
    "\n",
    "Hash Maps (or Hash Tables) are a **data structure** with keys and values; very similar to a Python dictionary. The keys in Hash Maps have a single value assigned to them, which can be accessed by calling the key: "
   ]
  },
  {
   "cell_type": "code",
   "execution_count": 2,
   "metadata": {
    "vscode": {
     "languageId": "java"
    }
   },
   "outputs": [
    {
     "name": "stdout",
     "output_type": "stream",
     "text": [
      "value for key 'apple' is 10\n"
     ]
    }
   ],
   "source": [
    "import java.util.HashMap;\n",
    "\n",
    "public class MyHashMap {\n",
    "    public static void main(String[] args) {\n",
    "\n",
    "        HashMap<String, Integer> hashMap = new HashMap<>();\n",
    "\n",
    "        // key-value pairs, where the key is the fruit (a string) and the value is the integer assigned to each key\n",
    "        hashMap.put(\"apple\", 10);\n",
    "        hashMap.put(\"banana\", 5);\n",
    "        hashMap.put(\"orange\", 8);\n",
    "\n",
    "        // the value 10 can be accessed by calling the key \"apple\"\n",
    "        int value = hashMap.get(\"apple\");\n",
    "        System.out.println(\"value for key 'apple' is \" + value);\n",
    "    }\n",
    "}\n",
    "\n",
    "MyHashMap.main(null);\n"
   ]
  },
  {
   "cell_type": "markdown",
   "metadata": {},
   "source": [
    "## Hash Sets\n",
    "\n",
    "### What is a HashSet? \n",
    "- "
   ]
  }
 ],
 "metadata": {
  "kernelspec": {
   "display_name": "Java",
   "language": "java",
   "name": "java"
  },
  "language_info": {
   "codemirror_mode": "java",
   "file_extension": ".jshell",
   "mimetype": "text/x-java-source",
   "name": "Java",
   "pygments_lexer": "java",
   "version": "20.0.1"
  },
  "orig_nbformat": 4
 },
 "nbformat": 4,
 "nbformat_minor": 2
}
